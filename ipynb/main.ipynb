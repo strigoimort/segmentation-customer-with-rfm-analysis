{
 "cells": [
  {
   "cell_type": "code",
   "execution_count": null,
   "metadata": {},
   "outputs": [],
   "source": [
    "# Import Library\n",
    "import pandas as pd\n",
    "import matplotlib.pyplot as plt\n",
    "import seaborn as sns"
   ]
  },
  {
   "cell_type": "code",
   "execution_count": null,
   "metadata": {},
   "outputs": [],
   "source": [
    "# Load Data\n",
    "df = pd.read_csv('data.csv')"
   ]
  },
  {
   "cell_type": "code",
   "execution_count": null,
   "metadata": {},
   "outputs": [],
   "source": [
    "# Data Cleansing\n",
    "# Assuming 'order_datetime' and 'user_last_login_datetime' are in datetime format\n",
    "df['order_datetime'] = pd.to_datetime(df['order_datetime'])\n",
    "df['user_last_login_datetime'] = pd.to_datetime(df['user_last_login_datetime'])\n",
    "df['rejected_datetime'] = pd.to_datetime(df['rejected_datetime'])"
   ]
  },
  {
   "cell_type": "code",
   "execution_count": null,
   "metadata": {},
   "outputs": [],
   "source": [
    "# EDA (Exploratory Data Analysis)\n",
    "# Display basic statistics\n",
    "print(df.describe())"
   ]
  },
  {
   "cell_type": "code",
   "execution_count": null,
   "metadata": {},
   "outputs": [],
   "source": [
    "# Data Visualization\n",
    "# A.1 Top 5 Category\n",
    "top_categories = df[df['rejected_datetime'].isnull()].groupby('cat_name').size().nlargest(5)\n",
    "top_categories.plot(kind='bar', rot=45, color='skyblue')\n",
    "plt.title('Top 5 Categories by Total Orders')\n",
    "plt.xlabel('Category Name')\n",
    "plt.ylabel('Total Orders')\n",
    "plt.show()\n",
    "\n",
    "Total GMV')\n",
    "plt.show()"
   ]
  },
  {
   "cell_type": "code",
   "execution_count": null,
   "metadata": {},
   "outputs": [],
   "source": [
    "# A.2 Year of Year Trends\n",
    "df['segment'] = df['cat_name'].map({\n",
    "    'Agriculture & Food': 'F&B',\n",
    "    'Horeca': 'F&B',\n",
    "    'Machinery & Industrial Parts': 'MRO',\n",
    "    'Building Materials': 'MRO',\n",
    "    'Automotive & Transportation': 'MRO',\n",
    "    'Health & Medical': 'Health & Beauty',\n",
    "    'Beauty, Sport & Fashion': 'Health & Beauty',\n",
    "    'Computer & Communication': '3C & Others'\n",
    "})\n",
    "\n",
    "tabel_pre_yoy = df[(df['user_last_login_datetime'] >= '2018-01-01') & (df['user_last_login_datetime'] <= '2021-12-31')]\n",
    "tabel_pre_yoy = tabel_pre_yoy.groupby(['segment', df['order_datetime'].dt.year]).agg(total_gmv=('gmv', 'sum')).reset_index()\n",
    "\n",
    "tabel_pre_yoy['pct_change_yoy'] = tabel_pre_yoy.groupby('segment')['total_gmv'].pct_change() * 100\n",
    "\n",
    "plt.figure(figsize=(12, 6))\n",
    "sns.lineplot(x='order_datetime', y='total_gmv', hue='segment', data=tabel_pre_yoy)\n",
    "plt.title('Year-over-Year GMV Trends by Segment')\n",
    "plt.xlabel('Year')\n",
    "plt.ylabel('"
   ]
  },
  {
   "cell_type": "code",
   "execution_count": null,
   "metadata": {},
   "outputs": [],
   "source": [
    "# B.1 Success Order Rate based on Category\n",
    "success_order_rate = df.groupby('cat_name').agg(\n",
    "    total_order=('order_id', 'count'),\n",
    "    successed_order=('rejected_datetime', lambda x: x.isnull().sum()),\n",
    "    canceled_order=('rejected_datetime', lambda x: x.notnull().sum())\n",
    ")\n",
    "\n",
    "success_order_rate['success_order_rate'] = (success_order_rate['successed_order'] / success_order_rate['total_order']) * 100\n",
    "\n",
    "success_order_rate = success_order_rate.sort_values(by='success_order_rate', ascending=False).reset_index()\n",
    "\n",
    "plt.figure(figsize=(12, 6))\n",
    "sns.barplot(x='cat_name', y='success_order_rate', data=success_order_rate, color='lightgreen')\n",
    "plt.title('Success Order Rate by Category')\n",
    "plt.xlabel('Category Name')\n",
    "plt.ylabel('Success Order Rate (%)')\n",
    "plt.xticks(rotation=45, ha='right')\n",
    "plt.show()"
   ]
  },
  {
   "cell_type": "code",
   "execution_count": null,
   "metadata": {},
   "outputs": [],
   "source": [
    "# B.2 Success Order Rate based on Category and Order Platform Source Class\n",
    "df['platform_source_class'] = df['platform_source'].map({\n",
    "    'website': 'Website',\n",
    "    'CMS': 'Website',\n",
    "    'PWA': 'Website',\n",
    "    'agent': 'Mobile',\n",
    "    'ios': 'Mobile',\n",
    "    'Android': 'Mobile'\n",
    "})\n",
    "\n",
    "success_order_rate_platform = df.groupby(['cat_name', 'platform_source_class']).agg(\n",
    "    total_order=('order_id', 'count'),\n",
    "    successed_order=('rejected_datetime', lambda x: x.isnull().sum()),\n",
    "    canceled_order=('rejected_datetime', lambda x: x.notnull().sum())\n",
    ")\n",
    "\n",
    "success_order_rate_platform['success_order_rate'] = (\n",
    "        success_order_rate_platform['successed_order'] / success_order_rate_platform['total_order']) * 100\n",
    "\n",
    "success_order_rate_platform = success_order_rate_platform.sort_values(by='success_order_rate', ascending=False).reset_index()\n",
    "\n",
    "plt.figure(figsize=(12, 6))\n",
    "sns.barplot(x='cat_name', y='success_order_rate', hue='platform_source_class', data=success_order_rate_platform,\n",
    "            palette='viridis')\n",
    "plt.title('Success Order Rate by Category and Platform Source Class')\n",
    "plt.xlabel('Category Name')\n",
    "plt.ylabel('Success Order Rate (%)')\n",
    "plt.xticks(rotation=45, ha='right')\n",
    "plt.legend(title='Platform Source Class')\n",
    "plt.show()"
   ]
  },
  {
   "cell_type": "code",
   "execution_count": null,
   "metadata": {},
   "outputs": [],
   "source": [
    "# C.1 Buyer Count based on Bucket Size GMV and Total Transaction\n",
    "df['lifetime_gmv_category'] = pd.cut(df['gmv'].astype(float), bins=[float('-inf'), 500000000, 1000000000, 2000000000, 3000000000, float('inf')],\n",
    "                                    labels=['<500 Million IDR', '500 Million - 1 Billion IDR',\n",
    "                                            '1 - 2 Billion IDR', '2 - 3 Billion IDR', '>3 Billion IDR'])\n",
    "\n",
    "transaction_counts = df.groupby('user_id')['order_id'].count().reset_index(name='total_transactions')\n",
    "\n",
    "buyer_count_bucket = df.merge(transaction_counts, on='user_id').groupby(['segment', 'lifetime_gmv_category']).agg(\n",
    "    trx1=('total_transactions', lambda x: x.lt(10).sum()),\n",
    "    trx2=('total_transactions', lambda x: x.between(10, 20).sum()),\n",
    "    trx3=('total_transactions', lambda x: x.between(21, 30).sum()),\n",
    "    trx4=('total_transactions', lambda x: x.between(31, 40).sum()),\n",
    "    trx5=('total_transactions', lambda x: x.gt(40).sum())\n",
    ").reset_index()\n",
    "\n",
    "plt.figure(figsize=(12, 6))\n",
    "sns.barplot(x='lifetime_gmv_category', y='total_transactions', hue='segment', data=buyer_count_bucket)\n",
    "plt.title('Buyer Count Based on Bucket Size GMV and Total Transaction')\n",
    "plt.xlabel('Lifetime GMV Category')\n",
    "plt.ylabel('Total Transactions')\n",
    "plt.show()"
   ]
  },
  {
   "cell_type": "code",
   "execution_count": null,
   "metadata": {},
   "outputs": [],
   "source": [
    "# D.1 Active Buyer List in Recent 6 Months\n",
    "lastest_order = df.groupby('user_id').agg(\n",
    "    last_order_date=('order_datetime', 'max'),\n",
    "    top_frequently_category_order_lifetime=('cat_name', lambda x: x.mode().iat[0]),\n",
    "    total_order=('order_id', 'nunique'),\n",
    "    total_gmv_lifetime=('gmv', 'sum')\n",
    ").reset_index()\n",
    "\n",
    "category_table = df.groupby(['user_id', 'order_datetime', 'cat_name']).size().reset_index(name='category_order')\n",
    "category_table = category_table.sort_values('order_datetime', ascending=False).groupby('user_id').head(1)\n",
    "\n",
    "active_buyer_list = lastest_order.merge(category_table[['user_id', 'last_order_date', 'cat_name']], on='user_id',\n",
    "                                       how='inner')\n",
    "\n",
    "active_buyer_list['last_order_date_class'] = pd.cut(\n",
    "    (pd.to_datetime('2022-12-31') - active_buyer_list['last_order_date']).dt.days,\n",
    "    bins=[-1, 7, 30, 60, 90, 180],\n",
    "    labels=['< 1 week', '< 1 month', '< 2 months', '< 3 months', '< 6 months']\n",
    ")\n",
    "\n",
    "plt.figure(figsize=(12, 6))\n",
    "sns.countplot(x='last_order_date_class', data=active_buyer_list, palette='pastel')\n",
    "plt.title('Active Buyer List in Recent 6 Months')\n",
    "plt.xlabel('Last Order Date Class')\n",
    "plt.ylabel('Number of Active Buyers')\n",
    "plt.show()"
   ]
  },
  {
   "cell_type": "code",
   "execution_count": null,
   "metadata": {},
   "outputs": [],
   "source": [
    "# D.2 Inactive Buyer List in Recent 6 Months\n",
    "inactive_buyer_list = lastest_order[\n",
    "    lastest_order['last_order_date'] < (pd.to_datetime('2022-12-31') - pd.DateOffset(months=6))\n",
    "]\n",
    "\n",
    "inactive_buyer_list['last_login_date_class'] = pd.cut(\n",
    "    (pd.to_datetime('2022-12-31') - inactive_buyer_list['last_login_datetime']).dt.days,\n",
    "    bins=[540, 630, 720, 810, 900, 990, 1080, float('inf')],\n",
    "    labels=['> 24 months', '> 21 months', '> 18 months', '> 15 months', '> 12 months', '> 9 months', '> 6 months']\n",
    ")\n",
    "\n",
    "plt.figure(figsize=(12, 6))\n",
    "sns.countplot(x='last_login_date_class', data=inactive_buyer_list, palette='pastel')\n",
    "plt.title('Inactive Buyer List in Recent 6 Months')\n",
    "plt.xlabel('Last Login Date Class')\n",
    "plt.ylabel('Number of Inactive Buyers')\n",
    "plt.show()"
   ]
  }
 ],
 "metadata": {
  "language_info": {
   "name": "python"
  }
 },
 "nbformat": 4,
 "nbformat_minor": 2
}
